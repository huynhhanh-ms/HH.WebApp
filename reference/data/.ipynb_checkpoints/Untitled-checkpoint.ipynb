{
 "cells": [
  {
   "cell_type": "code",
   "execution_count": 12,
   "id": "0c51df95-cb9c-4a1a-9f4d-a20f041e8693",
   "metadata": {},
   "outputs": [],
   "source": [
    "points = [{\n",
    "    \"status\": 1,\n",
    "    \"center_lat\": \"12.670308723578795\",\n",
    "    \"center_lng\": \"108.43277771025897\",\n",
    "    \"data\": []\n",
    "},{\n",
    "    \"status\": 1,\n",
    "    \"center_lat\": \"12.670223674549522\",\n",
    "    \"center_lng\": \"108.43294803053143\",\n",
    "    \"data\": []\n",
    "},{\n",
    "    \"status\": 1,\n",
    "    \"center_lat\": \"12.670124886795266\",\n",
    "    \"center_lng\": \"108.43289103358984\",\n",
    "    \"data\": []\n",
    "},\n",
    "{\n",
    "    \"status\": 1,\n",
    "    \"center_lat\": \"12.670212225639565\",\n",
    "    \"center_lng\": \"108.4327180311084\",\n",
    "    \"data\": []\n",
    "},\n",
    "\n",
    "]"
   ]
  },
  {
   "cell_type": "code",
   "execution_count": 13,
   "id": "adc2d721-47c0-43ad-a8f9-99fcb68dcebd",
   "metadata": {},
   "outputs": [],
   "source": [
    "data = [[float(point['center_lng']),float(point['center_lat'])] for point in points]"
   ]
  },
  {
   "cell_type": "code",
   "execution_count": 14,
   "id": "37821628-d305-4d14-a225-163b1b5b2356",
   "metadata": {},
   "outputs": [
    {
     "name": "stdout",
     "output_type": "stream",
     "text": [
      "[[108.43277771025897, 12.670308723578795], [108.43294803053143, 12.670223674549522], [108.43289103358984, 12.670124886795266], [108.4327180311084, 12.670212225639565]]\n"
     ]
    }
   ],
   "source": [
    "print(data)"
   ]
  },
  {
   "cell_type": "code",
   "execution_count": null,
   "id": "e25a2c63-8411-4b1f-8ab3-ff4927fdbe58",
   "metadata": {},
   "outputs": [],
   "source": []
  }
 ],
 "metadata": {
  "kernelspec": {
   "display_name": "Python 3 (ipykernel)",
   "language": "python",
   "name": "python3"
  },
  "language_info": {
   "codemirror_mode": {
    "name": "ipython",
    "version": 3
   },
   "file_extension": ".py",
   "mimetype": "text/x-python",
   "name": "python",
   "nbconvert_exporter": "python",
   "pygments_lexer": "ipython3",
   "version": "3.10.0"
  }
 },
 "nbformat": 4,
 "nbformat_minor": 5
}
